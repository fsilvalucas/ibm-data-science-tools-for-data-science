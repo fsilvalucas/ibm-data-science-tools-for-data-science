{
 "cells": [
  {
   "cell_type": "markdown",
   "metadata": {},
   "source": [
    "<center>\n",
    "    <img src=\"https://cf-courses-data.s3.us.cloud-object-storage.appdomain.cloud/IBMDeveloperSkillsNetwork-DS0105EN-SkillsNetwork/labs/Module2/images/SN_web_lightmode.png\" width=\"300\" alt=\"cognitiveclass.ai logo\">\n",
    "</center>\n"
   ]
  },
  {
   "cell_type": "markdown",
   "metadata": {},
   "source": [
    "#### Add your code below following the instructions given in the course\n"
   ]
  },
  {
   "cell_type": "markdown",
   "metadata": {},
   "source": [
    "# My Jupyter Notebook on IBM Watson Studio"
   ]
  },
  {
   "cell_type": "markdown",
   "metadata": {},
   "source": [
    "**Lucas Felipe Silva**  \n",
    "Data Scientist"
   ]
  },
  {
   "cell_type": "markdown",
   "metadata": {},
   "source": [
    "I am interested in data science because its important to understand the concepts of the actual world. \n",
    "Everytinh works around data, and those who does not use data are left behind."
   ]
  },
  {
   "cell_type": "markdown",
   "metadata": {},
   "source": [
    "<h3>I created a decorator called timer that measures how much time does the decorated function takes to run.<h3>"
   ]
  },
  {
   "cell_type": "code",
   "execution_count": 6,
   "metadata": {},
   "outputs": [
    {
     "name": "stdout",
     "output_type": "stream",
     "text": [
      "function main took 2.1789207458496094 seconds to run\n"
     ]
    }
   ],
   "source": [
    "import time\n",
    "\n",
    "def timer(func): \n",
    "    def wrapper():\n",
    "        start = time.time()\n",
    "        func()\n",
    "        end = time.time()\n",
    "        print(f\"function {func.__name__} took {str(end - start)} seconds to run\")\n",
    "    return wrapper\n",
    "\n",
    "@timer\n",
    "def main():\n",
    "    for n in range(1000000):\n",
    "        pass\n",
    "    time.sleep(2.14)\n",
    "        \n",
    "main()"
   ]
  },
  {
   "cell_type": "markdown",
   "metadata": {},
   "source": [
    "1. Item 1\n",
    "2. Item 2 \n",
    "---\n",
    "* To-do List\n",
    "  * Task 1\n",
    "  * Task 2\n",
    "    1. Task 2.1\n",
    "    1. Task 2.2\n",
    "---\n",
    "```python\n",
    "@timer\n",
    "def main():\n",
    "    for n in range(1000000):\n",
    "        pass\n",
    "    time.sleep(2.14)\n",
    "```"
   ]
  },
  {
   "cell_type": "code",
   "execution_count": null,
   "metadata": {},
   "outputs": [],
   "source": []
  }
 ],
 "metadata": {
  "kernelspec": {
   "display_name": "Python 3",
   "language": "python",
   "name": "python3"
  },
  "language_info": {
   "codemirror_mode": {
    "name": "ipython",
    "version": 3
   },
   "file_extension": ".py",
   "mimetype": "text/x-python",
   "name": "python",
   "nbconvert_exporter": "python",
   "pygments_lexer": "ipython3",
   "version": "3.8.8"
  }
 },
 "nbformat": 4,
 "nbformat_minor": 4
}
